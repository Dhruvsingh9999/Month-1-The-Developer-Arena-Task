{
 "cells": [
  {
   "cell_type": "markdown",
   "id": "5fa6715d",
   "metadata": {},
   "source": [
    "1 MONTH : THE DEVELOPER ARENA TASK"
   ]
  },
  {
   "cell_type": "markdown",
   "id": "09ccc126",
   "metadata": {},
   "source": [
    "WEEK 1 : The Developer Arena Task"
   ]
  },
  {
   "cell_type": "markdown",
   "id": "f0478432",
   "metadata": {},
   "source": [
    "HANDS ON : Average Temperature Calculator"
   ]
  },
  {
   "cell_type": "code",
   "execution_count": 5,
   "id": "75fb5207",
   "metadata": {},
   "outputs": [
    {
     "name": "stdout",
     "output_type": "stream",
     "text": [
      "Welcome to Average Temperature Calculator\n",
      "Temperatures: [23.5, 25.0, 22.8, 24.1, 26.3]\n",
      "Total: 121.7\n",
      "Number of entries: 5\n",
      "Average Temperature: 24.34 °C\n"
     ]
    }
   ],
   "source": [
    "# Average Temperature Calculator\n",
    "\n",
    "print(\"Welcome to Average Temperature Calculator\")\n",
    "\n",
    "# Step 1: Define a list of temperatures\n",
    "temperatures = [23.5, 25.0, 22.8, 24.1, 26.3]\n",
    "\n",
    "# Step 2: Calculate total temperature\n",
    "total = sum(temperatures)\n",
    "\n",
    "# Step 3: Count how many temperatures\n",
    "count = len(temperatures)\n",
    "\n",
    "# Step 4: Calculate average\n",
    "average = total / count\n",
    "\n",
    "# Step 5: Display result\n",
    "print(\"Temperatures:\", temperatures)\n",
    "print(\"Total:\", total)\n",
    "print(\"Number of entries:\", count)\n",
    "print(\"Average Temperature:\", round(average, 2), \"°C\")\n"
   ]
  },
  {
   "cell_type": "markdown",
   "id": "5b3ee5b6",
   "metadata": {},
   "source": [
    "HANDS ON : CALCULATOR "
   ]
  },
  {
   "cell_type": "code",
   "execution_count": null,
   "id": "efcd908f",
   "metadata": {},
   "outputs": [
    {
     "name": "stdout",
     "output_type": "stream",
     "text": [
      "Welcome to Simple Calculator\n",
      "Choose an operation: +, -, *, /\n",
      "First Number :  45.0\n",
      "Second Number :  5.0\n",
      "Result: 225.0\n"
     ]
    }
   ],
   "source": [
    "#Calculator\n",
    "print(\"Welcome to Simple Calculator\")\n",
    "print(\"Choose an operation: +, -, *, /\")\n",
    "\n",
    "# Take input from user\n",
    "num1 = float(input(\"Enter first number: \"))\n",
    "print(\"First Number : \",num1)\n",
    "op = input(\"Enter operator: \")\n",
    "num2 = float(input(\"Enter second number: \"))\n",
    "print(\"Second Number : \",num2)\n",
    "\n",
    "# Perform calculation based on operator\n",
    "if op == '+':\n",
    "    print(\"Result:\", num1 + num2)\n",
    "elif op == '-':\n",
    "    print(\"Result:\", num1 - num2)\n",
    "elif op == '*':\n",
    "    print(\"Result:\", num1 * num2)\n",
    "elif op == '/':\n",
    "    if num2 != 0:\n",
    "        print(\"Result:\", num1 / num2)\n",
    "    else:\n",
    "        print(\"Cannot divide by zero!\")\n",
    "else:\n",
    "    print(\"Invalid operator!\")\n"
   ]
  },
  {
   "cell_type": "markdown",
   "id": "ec77bd8a",
   "metadata": {},
   "source": [
    "CLIENT PROJECT : Average Temperature Calculator"
   ]
  },
  {
   "cell_type": "code",
   "execution_count": null,
   "id": "739ade04",
   "metadata": {},
   "outputs": [
    {
     "name": "stdout",
     "output_type": "stream",
     "text": [
      "🌡️ Welcome to the Temperature Analyzer 🌡️\n",
      "Enter temperatures (in Celsius). Type 'done' when finished:\n",
      "\n",
      "--- Temperature Report ---\n",
      "Temperatures: [5.0, 4.0, 5.0, 5.0]\n",
      "Total: 19.0 °C\n",
      "Count: 4\n",
      "Average: 4.75 °C\n",
      "Highest: 5.0 °C\n",
      "Lowest: 4.0 °C\n",
      "----------------------------\n"
     ]
    }
   ],
   "source": [
    "#Average Temperature Calculator\n",
    "\n",
    "def calculate_average_temperature():\n",
    "    temperatures = []\n",
    "    print(\"Enter temperatures (in Celsius). Type 'done' when finished:\")\n",
    "\n",
    "    # Take user input\n",
    "    entry = input(\"Enter temperature: \")\n",
    "    while entry.lower() != 'done':\n",
    "        if entry.replace('.', '', 1).isdigit():\n",
    "            temperatures.append(float(entry))\n",
    "        else:\n",
    "            print(\"Please enter a valid number.\")\n",
    "        entry = input(\"Enter temperature: \")\n",
    "\n",
    "    # Check if list is not empty\n",
    "    if len(temperatures) > 0:\n",
    "        total = sum(temperatures)\n",
    "        average = total / len(temperatures)\n",
    "        highest = max(temperatures)\n",
    "        lowest = min(temperatures)\n",
    "\n",
    "        # Show results\n",
    "        print(\"\\n--- Temperature Report ---\")\n",
    "        print(\"Temperatures:\", temperatures)\n",
    "        print(\"Total:\", round(total, 2), \"°C\")\n",
    "        print(\"Count:\", len(temperatures))\n",
    "        print(\"Average:\", round(average, 2), \"°C\")\n",
    "        print(\"Highest:\", highest, \"°C\")\n",
    "        print(\"Lowest:\", lowest, \"°C\")\n",
    "        print(\"----------------------------\")\n",
    "    else:\n",
    "        print(\"No temperatures entered.\")\n",
    "\n",
    "# Run the program\n",
    "print(\"🌡️ Welcome to the Temperature Analyzer 🌡️\")\n",
    "calculate_average_temperature()\n"
   ]
  },
  {
   "cell_type": "markdown",
   "id": "ee27477e",
   "metadata": {},
   "source": [
    "WEEK 2 : The Developer Arena Task"
   ]
  },
  {
   "cell_type": "markdown",
   "id": "b9e6a2c3",
   "metadata": {},
   "source": []
  }
 ],
 "metadata": {
  "kernelspec": {
   "display_name": "Python 3",
   "language": "python",
   "name": "python3"
  },
  "language_info": {
   "codemirror_mode": {
    "name": "ipython",
    "version": 3
   },
   "file_extension": ".py",
   "mimetype": "text/x-python",
   "name": "python",
   "nbconvert_exporter": "python",
   "pygments_lexer": "ipython3",
   "version": "3.12.2"
  }
 },
 "nbformat": 4,
 "nbformat_minor": 5
}
