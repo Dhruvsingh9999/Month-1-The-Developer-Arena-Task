{
 "cells": [
  {
   "cell_type": "markdown",
   "id": "5c5e98b4",
   "metadata": {},
   "source": [
    "<h1 style=\"color: orange; font-size: 36px;\">WEEK 2 : The Developer Arena Task</h1>"
   ]
  },
  {
   "cell_type": "markdown",
   "id": "923b13bf",
   "metadata": {},
   "source": [
    "<h1 style=\"color: orange; font-size: 30px;\">HANDS-ON PRACTICE</h1>"
   ]
  },
  {
   "cell_type": "markdown",
   "id": "18c57600",
   "metadata": {},
   "source": [
    "<h1 style=\"color: orange; font-size: 25px;\">1. Sum of squares using list and function</h1>"
   ]
  },
  {
   "cell_type": "code",
   "execution_count": 1,
   "id": "660630a4",
   "metadata": {},
   "outputs": [
    {
     "name": "stdout",
     "output_type": "stream",
     "text": [
      "Sum of squares: 30\n"
     ]
    }
   ],
   "source": [
    "def sum_of_squares(nums):\n",
    "    return sum([x**2 for x in nums])\n",
    "\n",
    "numbers = [1, 2, 3, 4]\n",
    "print(\"Sum of squares:\", sum_of_squares(numbers))  # 30"
   ]
  },
  {
   "cell_type": "markdown",
   "id": "df718d24",
   "metadata": {},
   "source": [
    "<h1 style=\"color: orange; font-size: 25px;\">2. Filter even numbers using lambda and filter()</h1>"
   ]
  },
  {
   "cell_type": "code",
   "execution_count": 2,
   "id": "3f1f98f1",
   "metadata": {},
   "outputs": [
    {
     "name": "stdout",
     "output_type": "stream",
     "text": [
      "Even numbers: [2, 4, 6]\n"
     ]
    }
   ],
   "source": [
    "numbers = [1, 2, 3, 4, 5, 6]\n",
    "even_numbers = list(filter(lambda x: x % 2 == 0, numbers))\n",
    "print(\"Even numbers:\", even_numbers)  # [2, 4, 6]\n"
   ]
  },
  {
   "cell_type": "markdown",
   "id": "d4e5173a",
   "metadata": {},
   "source": [
    "<h1 style=\"color: orange; font-size: 30px;\">CLIENT PROJECT: Data Cleaning Script\n",
    "Script to remove duplicates and filter numbers > 10</h1>\n"
   ]
  },
  {
   "cell_type": "code",
   "execution_count": 3,
   "id": "85a0d48b",
   "metadata": {},
   "outputs": [
    {
     "name": "stdout",
     "output_type": "stream",
     "text": [
      "Original: [12, 5, 12, 18, 7, 18, 3, 25]\n",
      "Cleaned: [12, 18, 25]\n"
     ]
    }
   ],
   "source": [
    "# Data Cleaning Script\n",
    "\n",
    "def clean_data(data):\n",
    "    unique_data = list(set(data))  # remove duplicates\n",
    "    filtered_data = [x for x in unique_data if x > 10]  # keep only numbers > 10\n",
    "    return filtered_data\n",
    "\n",
    "# Example data\n",
    "raw_data = [12, 5, 12, 18, 7, 18, 3, 25]\n",
    "\n",
    "# Clean the data\n",
    "cleaned = clean_data(raw_data)\n",
    "print(\"Original:\", raw_data)\n",
    "print(\"Cleaned:\", cleaned)\n"
   ]
  }
 ],
 "metadata": {
  "kernelspec": {
   "display_name": "Python 3",
   "language": "python",
   "name": "python3"
  },
  "language_info": {
   "codemirror_mode": {
    "name": "ipython",
    "version": 3
   },
   "file_extension": ".py",
   "mimetype": "text/x-python",
   "name": "python",
   "nbconvert_exporter": "python",
   "pygments_lexer": "ipython3",
   "version": "3.12.2"
  }
 },
 "nbformat": 4,
 "nbformat_minor": 5
}
