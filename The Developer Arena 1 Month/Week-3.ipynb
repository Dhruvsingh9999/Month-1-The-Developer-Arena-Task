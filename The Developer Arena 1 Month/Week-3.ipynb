{
 "cells": [
  {
   "cell_type": "markdown",
   "id": "fecac8d0",
   "metadata": {},
   "source": [
    "<h1 style=\"color: orange; font-size: 36px;\">WEEK 3 : The Developer Arena Task</h1>"
   ]
  },
  {
   "cell_type": "markdown",
   "id": "ea1f678e",
   "metadata": {},
   "source": [
    "<h1 style=\"color: orange; font-size: 30px;\">Hands-On Practice</h1>"
   ]
  },
  {
   "cell_type": "markdown",
   "id": "17c57031",
   "metadata": {},
   "source": [
    "<h1 style=\"color: orange; font-size: 25px;\">1. NumPy: Array Operations and Broadcasting</h1>"
   ]
  },
  {
   "cell_type": "code",
   "execution_count": 1,
   "id": "c0aeaff2",
   "metadata": {},
   "outputs": [
    {
     "name": "stdout",
     "output_type": "stream",
     "text": [
      "Original: [10 20 30 40]\n",
      "Squared: [ 100  400  900 1600]\n",
      "Added +5: [15 25 35 45]\n",
      "Mean: 25.0\n"
     ]
    }
   ],
   "source": [
    "import numpy as np\n",
    "\n",
    "# Create a NumPy array\n",
    "numbers = np.array([10, 20, 30, 40])\n",
    "\n",
    "# Perform operations\n",
    "squared = numbers ** 2\n",
    "added = numbers + 5\n",
    "mean = np.mean(numbers)\n",
    "\n",
    "print(\"Original:\", numbers)\n",
    "print(\"Squared:\", squared)\n",
    "print(\"Added +5:\", added)\n",
    "print(\"Mean:\", mean)\n"
   ]
  },
  {
   "cell_type": "markdown",
   "id": "79571414",
   "metadata": {},
   "source": [
    "<h1 style=\"color: orange; font-size: 25px;\">2. Pandas: DataFrame Creation & Basic Operations</h1>"
   ]
  },
  {
   "cell_type": "code",
   "execution_count": 2,
   "id": "dd931876",
   "metadata": {},
   "outputs": [
    {
     "name": "stdout",
     "output_type": "stream",
     "text": [
      "Original DataFrame:\n",
      "      Name  Math  Science\n",
      "0    Alice  85.0     78.0\n",
      "1      Bob  90.0     88.0\n",
      "2  Charlie   NaN     92.0\n",
      "3    David  70.0      NaN\n",
      "\n",
      "Cleaned DataFrame with Averages:\n",
      "    Name  Math  Science  Average\n",
      "0  Alice  85.0     78.0     81.5\n",
      "1    Bob  90.0     88.0     89.0\n"
     ]
    },
    {
     "name": "stderr",
     "output_type": "stream",
     "text": [
      "C:\\Users\\wwwdh\\AppData\\Local\\Temp\\ipykernel_15380\\3907156339.py:20: SettingWithCopyWarning: \n",
      "A value is trying to be set on a copy of a slice from a DataFrame.\n",
      "Try using .loc[row_indexer,col_indexer] = value instead\n",
      "\n",
      "See the caveats in the documentation: https://pandas.pydata.org/pandas-docs/stable/user_guide/indexing.html#returning-a-view-versus-a-copy\n",
      "  cleaned_df['Average'] = cleaned_df[['Math', 'Science']].mean(axis=1)\n"
     ]
    }
   ],
   "source": [
    "import pandas as pd\n",
    "\n",
    "# Create a DataFrame\n",
    "data = {\n",
    "    'Name': ['Alice', 'Bob', 'Charlie', 'David'],\n",
    "    'Math': [85, 90, None, 70],\n",
    "    'Science': [78, 88, 92, None]\n",
    "}\n",
    "\n",
    "df = pd.DataFrame(data)\n",
    "\n",
    "# View basic info\n",
    "print(\"Original DataFrame:\")\n",
    "print(df)\n",
    "\n",
    "# Drop rows with missing values\n",
    "cleaned_df = df.dropna()\n",
    "\n",
    "# Calculate average scores (row-wise)\n",
    "cleaned_df['Average'] = cleaned_df[['Math', 'Science']].mean(axis=1)\n",
    "\n",
    "print(\"\\nCleaned DataFrame with Averages:\")\n",
    "print(cleaned_df)\n"
   ]
  },
  {
   "cell_type": "markdown",
   "id": "4b331f0f",
   "metadata": {},
   "source": [
    "<h1 style=\"color: orange; font-size: 30px;\">Client Project: Clean and Aggregate Dataset</h1>"
   ]
  },
  {
   "cell_type": "code",
   "execution_count": 3,
   "id": "2a33aa56",
   "metadata": {},
   "outputs": [
    {
     "name": "stdout",
     "output_type": "stream",
     "text": [
      "Cleaned and Aggregated Data:\n",
      "            Math    Science    Average\n",
      "Class                                 \n",
      "A      88.333333  83.333333  85.833333\n",
      "B      80.000000  86.250000  83.125000\n"
     ]
    },
    {
     "name": "stderr",
     "output_type": "stream",
     "text": [
      "C:\\Users\\wwwdh\\AppData\\Local\\Temp\\ipykernel_15380\\1204586626.py:14: FutureWarning: A value is trying to be set on a copy of a DataFrame or Series through chained assignment using an inplace method.\n",
      "The behavior will change in pandas 3.0. This inplace method will never work because the intermediate object on which we are setting values always behaves as a copy.\n",
      "\n",
      "For example, when doing 'df[col].method(value, inplace=True)', try using 'df.method({col: value}, inplace=True)' or df[col] = df[col].method(value) instead, to perform the operation inplace on the original object.\n",
      "\n",
      "\n",
      "  df['Math'].fillna(df['Math'].mean(), inplace=True)\n",
      "C:\\Users\\wwwdh\\AppData\\Local\\Temp\\ipykernel_15380\\1204586626.py:15: FutureWarning: A value is trying to be set on a copy of a DataFrame or Series through chained assignment using an inplace method.\n",
      "The behavior will change in pandas 3.0. This inplace method will never work because the intermediate object on which we are setting values always behaves as a copy.\n",
      "\n",
      "For example, when doing 'df[col].method(value, inplace=True)', try using 'df.method({col: value}, inplace=True)' or df[col] = df[col].method(value) instead, to perform the operation inplace on the original object.\n",
      "\n",
      "\n",
      "  df['Science'].fillna(df['Science'].mean(), inplace=True)\n"
     ]
    }
   ],
   "source": [
    "import pandas as pd\n",
    "\n",
    "# Sample dataset\n",
    "data = {\n",
    "    'Student': ['Alice', 'Bob', 'Charlie', 'David', 'Eva'],\n",
    "    'Class': ['A', 'B', 'A', 'B', 'A'],\n",
    "    'Math': [85, 90, None, 70, 95],\n",
    "    'Science': [78, 88, 92, None, 80]\n",
    "}\n",
    "\n",
    "df = pd.DataFrame(data)\n",
    "\n",
    "# Step 1: Fill missing values with column mean\n",
    "df['Math'].fillna(df['Math'].mean(), inplace=True)\n",
    "df['Science'].fillna(df['Science'].mean(), inplace=True)\n",
    "\n",
    "# Step 2: Add average score column\n",
    "df['Average'] = df[['Math', 'Science']].mean(axis=1)\n",
    "\n",
    "# Step 3: Group by class and calculate class-wise average\n",
    "grouped = df.groupby('Class')[['Math', 'Science', 'Average']].mean()\n",
    "\n",
    "# Print results\n",
    "print(\"Cleaned and Aggregated Data:\")\n",
    "print(grouped)"
   ]
  }
 ],
 "metadata": {
  "kernelspec": {
   "display_name": "Python 3",
   "language": "python",
   "name": "python3"
  },
  "language_info": {
   "codemirror_mode": {
    "name": "ipython",
    "version": 3
   },
   "file_extension": ".py",
   "mimetype": "text/x-python",
   "name": "python",
   "nbconvert_exporter": "python",
   "pygments_lexer": "ipython3",
   "version": "3.12.2"
  }
 },
 "nbformat": 4,
 "nbformat_minor": 5
}
